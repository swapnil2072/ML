{
 "cells": [
  {
   "cell_type": "code",
   "execution_count": 1,
   "id": "53ec115b",
   "metadata": {},
   "outputs": [
    {
     "name": "stdin",
     "output_type": "stream",
     "text": [
      "Enter the value of k for K-Nearest Neighbors:  5\n"
     ]
    },
    {
     "name": "stdout",
     "output_type": "stream",
     "text": [
      "\n",
      "KNN Model Performance:\n",
      "KNN Accuracy: 0.8253865979381443\n",
      "KNN R²: 0.15735822973744573\n",
      "KNN MSE: 0.17461340206185566\n",
      "KNN RMSE: 0.41786768487387926\n",
      "KNN MAE: 0.17461340206185566\n",
      "KNN Confusion Matrix:\n",
      " [[846 251]\n",
      " [ 20 435]]\n",
      "\n",
      "SVM Model Performance:\n",
      "SVM Accuracy: 0.9400773195876289\n",
      "SVM R²: 0.710827731976319\n",
      "SVM MSE: 0.059922680412371136\n",
      "SVM RMSE: 0.2447910954515526\n",
      "SVM MAE: 0.059922680412371136\n",
      "SVM Confusion Matrix:\n",
      " [[1043   54]\n",
      " [  39  416]]\n"
     ]
    }
   ],
   "source": [
    "# Import required libraries\n",
    "import pandas as pd\n",
    "from sklearn.model_selection import train_test_split\n",
    "from sklearn.preprocessing import StandardScaler\n",
    "from sklearn.neighbors import KNeighborsClassifier\n",
    "from sklearn.svm import SVC\n",
    "from sklearn.metrics import mean_squared_error, mean_absolute_error, r2_score, confusion_matrix, accuracy_score\n",
    "import numpy as np\n",
    "\n",
    "# Load the dataset (replace with the path to your dataset if needed)\n",
    "df = pd.read_csv('emails.csv')\n",
    "\n",
    "# Split the dataset into features and labels\n",
    "X = df.drop(columns=['Email No.', 'Prediction'])  # Features (drop non-relevant columns)\n",
    "y = df['Prediction']  # Labels (0 - Not Spam, 1 - Spam)\n",
    "\n",
    "# Split the data into training and testing sets\n",
    "X_train, X_test, y_train, y_test = train_test_split(X, y, test_size=0.3, random_state=42)\n",
    "\n",
    "# Standardize the feature set for both KNN and SVM\n",
    "scaler = StandardScaler()\n",
    "X_train = scaler.fit_transform(X_train)\n",
    "X_test = scaler.transform(X_test)\n",
    "\n",
    "### K-NEAREST NEIGHBORS (KNN) ###\n",
    "\n",
    "# Ask the user to input the value of k\n",
    "k = int(input(\"Enter the value of k for K-Nearest Neighbors: \"))\n",
    "\n",
    "# Initialize KNN classifier with the user-defined k value\n",
    "knn = KNeighborsClassifier(n_neighbors=k)\n",
    "\n",
    "# Train the KNN model\n",
    "knn.fit(X_train, y_train)\n",
    "\n",
    "# Predict using KNN\n",
    "y_pred_knn = knn.predict(X_test)\n",
    "\n",
    "# Evaluate the KNN model\n",
    "print(\"\\nKNN Model Performance:\")\n",
    "print(\"KNN Accuracy:\", accuracy_score(y_test, y_pred_knn))\n",
    "print(\"KNN R²:\", r2_score(y_test, y_pred_knn))\n",
    "print(\"KNN MSE:\", mean_squared_error(y_test, y_pred_knn))\n",
    "print(\"KNN RMSE:\", np.sqrt(mean_squared_error(y_test, y_pred_knn)))\n",
    "print(\"KNN MAE:\", mean_absolute_error(y_test, y_pred_knn))\n",
    "print(\"KNN Confusion Matrix:\\n\", confusion_matrix(y_test, y_pred_knn))\n",
    "\n",
    "\n",
    "### SUPPORT VECTOR MACHINE (SVM) ###\n",
    "\n",
    "# Initialize SVM classifier\n",
    "svm = SVC(kernel='linear')\n",
    "\n",
    "# Train the SVM model\n",
    "svm.fit(X_train, y_train)\n",
    "\n",
    "# Predict using SVM\n",
    "y_pred_svm = svm.predict(X_test)\n",
    "\n",
    "# Evaluate the SVM model\n",
    "print(\"\\nSVM Model Performance:\")\n",
    "print(\"SVM Accuracy:\", accuracy_score(y_test, y_pred_svm))\n",
    "print(\"SVM R²:\", r2_score(y_test, y_pred_svm))\n",
    "print(\"SVM MSE:\", mean_squared_error(y_test, y_pred_svm))\n",
    "print(\"SVM RMSE:\", np.sqrt(mean_squared_error(y_test, y_pred_svm)))\n",
    "print(\"SVM MAE:\", mean_absolute_error(y_test, y_pred_svm))\n",
    "print(\"SVM Confusion Matrix:\\n\", confusion_matrix(y_test, y_pred_svm))\n"
   ]
  },
  {
   "cell_type": "code",
   "execution_count": null,
   "id": "b9ad4369",
   "metadata": {},
   "outputs": [],
   "source": []
  }
 ],
 "metadata": {
  "kernelspec": {
   "display_name": "Python 3 (ipykernel)",
   "language": "python",
   "name": "python3"
  },
  "language_info": {
   "codemirror_mode": {
    "name": "ipython",
    "version": 3
   },
   "file_extension": ".py",
   "mimetype": "text/x-python",
   "name": "python",
   "nbconvert_exporter": "python",
   "pygments_lexer": "ipython3",
   "version": "3.11.7"
  }
 },
 "nbformat": 4,
 "nbformat_minor": 5
}
